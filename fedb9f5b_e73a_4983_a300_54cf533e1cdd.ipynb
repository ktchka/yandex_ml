{
  "cells": [
    {
      "cell_type": "markdown",
      "metadata": {
        "toc": true,
        "id": "c20ylHTMrR_L"
      },
      "source": [
        "<h1>Содержание<span class=\"tocSkip\"></span></h1>\n",
        "<div class=\"toc\"><ul class=\"toc-item\"><li><span><a href=\"#Подготовка-данных\" data-toc-modified-id=\"Подготовка-данных-1\"><span class=\"toc-item-num\">1&nbsp;&nbsp;</span>Подготовка данных</a></span></li><li><span><a href=\"#Исследование-задачи\" data-toc-modified-id=\"Исследование-задачи-2\"><span class=\"toc-item-num\">2&nbsp;&nbsp;</span>Исследование задачи</a></span></li><li><span><a href=\"#Борьба-с-дисбалансом\" data-toc-modified-id=\"Борьба-с-дисбалансом-3\"><span class=\"toc-item-num\">3&nbsp;&nbsp;</span>Борьба с дисбалансом</a></span></li><li><span><a href=\"#Тестирование-модели\" data-toc-modified-id=\"Тестирование-модели-4\"><span class=\"toc-item-num\">4&nbsp;&nbsp;</span>Тестирование модели</a></span></li><li><span><a href=\"#Чек-лист-готовности-проекта\" data-toc-modified-id=\"Чек-лист-готовности-проекта-5\"><span class=\"toc-item-num\">5&nbsp;&nbsp;</span>Чек-лист готовности проекта</a></span></li></ul></div>"
      ]
    },
    {
      "cell_type": "markdown",
      "metadata": {
        "id": "oY61oFsWrR_M"
      },
      "source": [
        "# Отток клиентов"
      ]
    },
    {
      "cell_type": "markdown",
      "metadata": {
        "id": "FiWGv5sJrR_M"
      },
      "source": [
        "Из «Бета-Банка» стали уходить клиенты. Каждый месяц. Немного, но заметно. Банковские маркетологи посчитали: сохранять текущих клиентов дешевле, чем привлекать новых.\n",
        "\n",
        "Нужно спрогнозировать, уйдёт клиент из банка в ближайшее время или нет. Вам предоставлены исторические данные о поведении клиентов и расторжении договоров с банком. \n",
        "\n",
        "Постройте модель с предельно большим значением *F1*-меры. Чтобы сдать проект успешно, нужно довести метрику до 0.59. Проверьте *F1*-меру на тестовой выборке самостоятельно.\n",
        "\n",
        "Дополнительно измеряйте *AUC-ROC*, сравнивайте её значение с *F1*-мерой.\n",
        "\n",
        "Источник данных: [https://www.kaggle.com/barelydedicated/bank-customer-churn-modeling](https://www.kaggle.com/barelydedicated/bank-customer-churn-modeling)"
      ]
    },
    {
      "cell_type": "markdown",
      "metadata": {
        "id": "0l87pRYcrR_M"
      },
      "source": [
        "## Подготовка данных"
      ]
    },
    {
      "cell_type": "code",
      "execution_count": null,
      "metadata": {
        "id": "9wp9J5NfrR_N"
      },
      "outputs": [],
      "source": [
        "import pandas as pd\n",
        "from sklearn.model_selection import train_test_split\n",
        "from sklearn.linear_model import LinearRegression\n",
        "from sklearn.metrics import mean_absolute_error\n",
        "from sklearn.tree import DecisionTreeClassifier\n",
        "from sklearn.ensemble import RandomForestRegressor\n",
        "from sklearn.preprocessing import OrdinalEncoder\n",
        "from sklearn.preprocessing import StandardScaler\n",
        "from sklearn.utils import shuffle\n",
        "from sklearn.metrics import f1_score\n",
        "from sklearn.tree import DecisionTreeRegressor\n",
        "from sklearn.ensemble import RandomForestClassifier\n",
        "from sklearn.metrics import roc_curve\n",
        "from sklearn.metrics import roc_auc_score\n"
      ]
    },
    {
      "cell_type": "code",
      "execution_count": null,
      "metadata": {
        "id": "Z3wG939yrR_O"
      },
      "outputs": [],
      "source": [
        "data = pd.read_csv('/datasets/Churn.csv')"
      ]
    },
    {
      "cell_type": "code",
      "execution_count": null,
      "metadata": {
        "id": "Ulxnfo_ArR_O",
        "outputId": "39a349ac-7a84-465c-e9cf-3fead2db1c98"
      },
      "outputs": [
        {
          "name": "stdout",
          "output_type": "stream",
          "text": [
            "<class 'pandas.core.frame.DataFrame'>\n",
            "RangeIndex: 10000 entries, 0 to 9999\n",
            "Data columns (total 14 columns):\n",
            " #   Column           Non-Null Count  Dtype  \n",
            "---  ------           --------------  -----  \n",
            " 0   RowNumber        10000 non-null  int64  \n",
            " 1   CustomerId       10000 non-null  int64  \n",
            " 2   Surname          10000 non-null  object \n",
            " 3   CreditScore      10000 non-null  int64  \n",
            " 4   Geography        10000 non-null  object \n",
            " 5   Gender           10000 non-null  object \n",
            " 6   Age              10000 non-null  int64  \n",
            " 7   Tenure           9091 non-null   float64\n",
            " 8   Balance          10000 non-null  float64\n",
            " 9   NumOfProducts    10000 non-null  int64  \n",
            " 10  HasCrCard        10000 non-null  int64  \n",
            " 11  IsActiveMember   10000 non-null  int64  \n",
            " 12  EstimatedSalary  10000 non-null  float64\n",
            " 13  Exited           10000 non-null  int64  \n",
            "dtypes: float64(3), int64(8), object(3)\n",
            "memory usage: 1.1+ MB\n"
          ]
        }
      ],
      "source": [
        "data.info()"
      ]
    },
    {
      "cell_type": "code",
      "execution_count": null,
      "metadata": {
        "scrolled": true,
        "id": "YjNX0fPBrR_P",
        "outputId": "0c422bba-a89b-4935-9fc7-52e1146fc1c3"
      },
      "outputs": [
        {
          "data": {
            "text/html": [
              "<div>\n",
              "<style scoped>\n",
              "    .dataframe tbody tr th:only-of-type {\n",
              "        vertical-align: middle;\n",
              "    }\n",
              "\n",
              "    .dataframe tbody tr th {\n",
              "        vertical-align: top;\n",
              "    }\n",
              "\n",
              "    .dataframe thead th {\n",
              "        text-align: right;\n",
              "    }\n",
              "</style>\n",
              "<table border=\"1\" class=\"dataframe\">\n",
              "  <thead>\n",
              "    <tr style=\"text-align: right;\">\n",
              "      <th></th>\n",
              "      <th>RowNumber</th>\n",
              "      <th>CustomerId</th>\n",
              "      <th>Surname</th>\n",
              "      <th>CreditScore</th>\n",
              "      <th>Geography</th>\n",
              "      <th>Gender</th>\n",
              "      <th>Age</th>\n",
              "      <th>Tenure</th>\n",
              "      <th>Balance</th>\n",
              "      <th>NumOfProducts</th>\n",
              "      <th>HasCrCard</th>\n",
              "      <th>IsActiveMember</th>\n",
              "      <th>EstimatedSalary</th>\n",
              "      <th>Exited</th>\n",
              "    </tr>\n",
              "  </thead>\n",
              "  <tbody>\n",
              "    <tr>\n",
              "      <th>0</th>\n",
              "      <td>1</td>\n",
              "      <td>15634602</td>\n",
              "      <td>Hargrave</td>\n",
              "      <td>619</td>\n",
              "      <td>France</td>\n",
              "      <td>Female</td>\n",
              "      <td>42</td>\n",
              "      <td>2.0</td>\n",
              "      <td>0.00</td>\n",
              "      <td>1</td>\n",
              "      <td>1</td>\n",
              "      <td>1</td>\n",
              "      <td>101348.88</td>\n",
              "      <td>1</td>\n",
              "    </tr>\n",
              "    <tr>\n",
              "      <th>1</th>\n",
              "      <td>2</td>\n",
              "      <td>15647311</td>\n",
              "      <td>Hill</td>\n",
              "      <td>608</td>\n",
              "      <td>Spain</td>\n",
              "      <td>Female</td>\n",
              "      <td>41</td>\n",
              "      <td>1.0</td>\n",
              "      <td>83807.86</td>\n",
              "      <td>1</td>\n",
              "      <td>0</td>\n",
              "      <td>1</td>\n",
              "      <td>112542.58</td>\n",
              "      <td>0</td>\n",
              "    </tr>\n",
              "    <tr>\n",
              "      <th>2</th>\n",
              "      <td>3</td>\n",
              "      <td>15619304</td>\n",
              "      <td>Onio</td>\n",
              "      <td>502</td>\n",
              "      <td>France</td>\n",
              "      <td>Female</td>\n",
              "      <td>42</td>\n",
              "      <td>8.0</td>\n",
              "      <td>159660.80</td>\n",
              "      <td>3</td>\n",
              "      <td>1</td>\n",
              "      <td>0</td>\n",
              "      <td>113931.57</td>\n",
              "      <td>1</td>\n",
              "    </tr>\n",
              "    <tr>\n",
              "      <th>3</th>\n",
              "      <td>4</td>\n",
              "      <td>15701354</td>\n",
              "      <td>Boni</td>\n",
              "      <td>699</td>\n",
              "      <td>France</td>\n",
              "      <td>Female</td>\n",
              "      <td>39</td>\n",
              "      <td>1.0</td>\n",
              "      <td>0.00</td>\n",
              "      <td>2</td>\n",
              "      <td>0</td>\n",
              "      <td>0</td>\n",
              "      <td>93826.63</td>\n",
              "      <td>0</td>\n",
              "    </tr>\n",
              "    <tr>\n",
              "      <th>4</th>\n",
              "      <td>5</td>\n",
              "      <td>15737888</td>\n",
              "      <td>Mitchell</td>\n",
              "      <td>850</td>\n",
              "      <td>Spain</td>\n",
              "      <td>Female</td>\n",
              "      <td>43</td>\n",
              "      <td>2.0</td>\n",
              "      <td>125510.82</td>\n",
              "      <td>1</td>\n",
              "      <td>1</td>\n",
              "      <td>1</td>\n",
              "      <td>79084.10</td>\n",
              "      <td>0</td>\n",
              "    </tr>\n",
              "  </tbody>\n",
              "</table>\n",
              "</div>"
            ],
            "text/plain": [
              "   RowNumber  CustomerId   Surname  CreditScore Geography  Gender  Age  \\\n",
              "0          1    15634602  Hargrave          619    France  Female   42   \n",
              "1          2    15647311      Hill          608     Spain  Female   41   \n",
              "2          3    15619304      Onio          502    France  Female   42   \n",
              "3          4    15701354      Boni          699    France  Female   39   \n",
              "4          5    15737888  Mitchell          850     Spain  Female   43   \n",
              "\n",
              "   Tenure    Balance  NumOfProducts  HasCrCard  IsActiveMember  \\\n",
              "0     2.0       0.00              1          1               1   \n",
              "1     1.0   83807.86              1          0               1   \n",
              "2     8.0  159660.80              3          1               0   \n",
              "3     1.0       0.00              2          0               0   \n",
              "4     2.0  125510.82              1          1               1   \n",
              "\n",
              "   EstimatedSalary  Exited  \n",
              "0        101348.88       1  \n",
              "1        112542.58       0  \n",
              "2        113931.57       1  \n",
              "3         93826.63       0  \n",
              "4         79084.10       0  "
            ]
          },
          "execution_count": 4,
          "metadata": {},
          "output_type": "execute_result"
        }
      ],
      "source": [
        "data.head()"
      ]
    },
    {
      "cell_type": "code",
      "execution_count": null,
      "metadata": {
        "id": "WPe-hA_trR_P",
        "outputId": "3c7ae344-e711-4369-a835-b26202fac275"
      },
      "outputs": [
        {
          "data": {
            "text/plain": [
              "Index(['RowNumber', 'CustomerId', 'Surname', 'CreditScore', 'Geography',\n",
              "       'Gender', 'Age', 'Tenure', 'Balance', 'NumOfProducts', 'HasCrCard',\n",
              "       'IsActiveMember', 'EstimatedSalary', 'Exited'],\n",
              "      dtype='object')"
            ]
          },
          "execution_count": 5,
          "metadata": {},
          "output_type": "execute_result"
        }
      ],
      "source": [
        "data.columns"
      ]
    },
    {
      "cell_type": "markdown",
      "metadata": {
        "id": "H02J6NoPrR_Q"
      },
      "source": [
        "у нас есть категориальные признаки, а есть количественные. и вот тут надо подумать, а как мне вообще модель тренить то. может надо как-то пробежаться только по категориальным признакам сначала, а потом соединить с остальным датасетом? эх"
      ]
    },
    {
      "cell_type": "markdown",
      "metadata": {
        "id": "_S9HPwbrrR_Q"
      },
      "source": [
        "## Исследование задачи"
      ]
    },
    {
      "cell_type": "code",
      "execution_count": null,
      "metadata": {
        "id": "tvn3OtfHrR_Q"
      },
      "outputs": [],
      "source": [
        "categories = ['Geography', 'Gender', 'HasCrCard', 'IsActiveMember']\n",
        "\n",
        "# закодируем категориальные признаки\n",
        "encoder = OrdinalEncoder()\n",
        "data[categories] = encoder.fit_transform(data[categories])"
      ]
    },
    {
      "cell_type": "markdown",
      "metadata": {
        "id": "TBeG8_2vrR_Q"
      },
      "source": [
        "<div class=\"alert alert-success\">\n",
        "<h2> Комментарий ревьюера ✔️ <a class=\"tocSkip\"> </h2>\n",
        "\n",
        "Здесь круто, идем дальше"
      ]
    },
    {
      "cell_type": "code",
      "execution_count": null,
      "metadata": {
        "scrolled": true,
        "id": "iVP9zdAUrR_Q",
        "outputId": "a917ad39-9ad8-4939-9d77-9743d50c40fb"
      },
      "outputs": [
        {
          "data": {
            "text/html": [
              "<div>\n",
              "<style scoped>\n",
              "    .dataframe tbody tr th:only-of-type {\n",
              "        vertical-align: middle;\n",
              "    }\n",
              "\n",
              "    .dataframe tbody tr th {\n",
              "        vertical-align: top;\n",
              "    }\n",
              "\n",
              "    .dataframe thead th {\n",
              "        text-align: right;\n",
              "    }\n",
              "</style>\n",
              "<table border=\"1\" class=\"dataframe\">\n",
              "  <thead>\n",
              "    <tr style=\"text-align: right;\">\n",
              "      <th></th>\n",
              "      <th>RowNumber</th>\n",
              "      <th>CustomerId</th>\n",
              "      <th>Surname</th>\n",
              "      <th>CreditScore</th>\n",
              "      <th>Geography</th>\n",
              "      <th>Gender</th>\n",
              "      <th>Age</th>\n",
              "      <th>Tenure</th>\n",
              "      <th>Balance</th>\n",
              "      <th>NumOfProducts</th>\n",
              "      <th>HasCrCard</th>\n",
              "      <th>IsActiveMember</th>\n",
              "      <th>EstimatedSalary</th>\n",
              "      <th>Exited</th>\n",
              "    </tr>\n",
              "  </thead>\n",
              "  <tbody>\n",
              "    <tr>\n",
              "      <th>0</th>\n",
              "      <td>1</td>\n",
              "      <td>15634602</td>\n",
              "      <td>Hargrave</td>\n",
              "      <td>619</td>\n",
              "      <td>0.0</td>\n",
              "      <td>0.0</td>\n",
              "      <td>42</td>\n",
              "      <td>2.0</td>\n",
              "      <td>0.00</td>\n",
              "      <td>1</td>\n",
              "      <td>1.0</td>\n",
              "      <td>1.0</td>\n",
              "      <td>101348.88</td>\n",
              "      <td>1</td>\n",
              "    </tr>\n",
              "    <tr>\n",
              "      <th>1</th>\n",
              "      <td>2</td>\n",
              "      <td>15647311</td>\n",
              "      <td>Hill</td>\n",
              "      <td>608</td>\n",
              "      <td>2.0</td>\n",
              "      <td>0.0</td>\n",
              "      <td>41</td>\n",
              "      <td>1.0</td>\n",
              "      <td>83807.86</td>\n",
              "      <td>1</td>\n",
              "      <td>0.0</td>\n",
              "      <td>1.0</td>\n",
              "      <td>112542.58</td>\n",
              "      <td>0</td>\n",
              "    </tr>\n",
              "    <tr>\n",
              "      <th>2</th>\n",
              "      <td>3</td>\n",
              "      <td>15619304</td>\n",
              "      <td>Onio</td>\n",
              "      <td>502</td>\n",
              "      <td>0.0</td>\n",
              "      <td>0.0</td>\n",
              "      <td>42</td>\n",
              "      <td>8.0</td>\n",
              "      <td>159660.80</td>\n",
              "      <td>3</td>\n",
              "      <td>1.0</td>\n",
              "      <td>0.0</td>\n",
              "      <td>113931.57</td>\n",
              "      <td>1</td>\n",
              "    </tr>\n",
              "    <tr>\n",
              "      <th>3</th>\n",
              "      <td>4</td>\n",
              "      <td>15701354</td>\n",
              "      <td>Boni</td>\n",
              "      <td>699</td>\n",
              "      <td>0.0</td>\n",
              "      <td>0.0</td>\n",
              "      <td>39</td>\n",
              "      <td>1.0</td>\n",
              "      <td>0.00</td>\n",
              "      <td>2</td>\n",
              "      <td>0.0</td>\n",
              "      <td>0.0</td>\n",
              "      <td>93826.63</td>\n",
              "      <td>0</td>\n",
              "    </tr>\n",
              "    <tr>\n",
              "      <th>4</th>\n",
              "      <td>5</td>\n",
              "      <td>15737888</td>\n",
              "      <td>Mitchell</td>\n",
              "      <td>850</td>\n",
              "      <td>2.0</td>\n",
              "      <td>0.0</td>\n",
              "      <td>43</td>\n",
              "      <td>2.0</td>\n",
              "      <td>125510.82</td>\n",
              "      <td>1</td>\n",
              "      <td>1.0</td>\n",
              "      <td>1.0</td>\n",
              "      <td>79084.10</td>\n",
              "      <td>0</td>\n",
              "    </tr>\n",
              "  </tbody>\n",
              "</table>\n",
              "</div>"
            ],
            "text/plain": [
              "   RowNumber  CustomerId   Surname  CreditScore  Geography  Gender  Age  \\\n",
              "0          1    15634602  Hargrave          619        0.0     0.0   42   \n",
              "1          2    15647311      Hill          608        2.0     0.0   41   \n",
              "2          3    15619304      Onio          502        0.0     0.0   42   \n",
              "3          4    15701354      Boni          699        0.0     0.0   39   \n",
              "4          5    15737888  Mitchell          850        2.0     0.0   43   \n",
              "\n",
              "   Tenure    Balance  NumOfProducts  HasCrCard  IsActiveMember  \\\n",
              "0     2.0       0.00              1        1.0             1.0   \n",
              "1     1.0   83807.86              1        0.0             1.0   \n",
              "2     8.0  159660.80              3        1.0             0.0   \n",
              "3     1.0       0.00              2        0.0             0.0   \n",
              "4     2.0  125510.82              1        1.0             1.0   \n",
              "\n",
              "   EstimatedSalary  Exited  \n",
              "0        101348.88       1  \n",
              "1        112542.58       0  \n",
              "2        113931.57       1  \n",
              "3         93826.63       0  \n",
              "4         79084.10       0  "
            ]
          },
          "execution_count": 7,
          "metadata": {},
          "output_type": "execute_result"
        }
      ],
      "source": [
        "data.head()"
      ]
    },
    {
      "cell_type": "code",
      "execution_count": null,
      "metadata": {
        "id": "D1O_Y9K4rR_Q"
      },
      "outputs": [],
      "source": [
        "\"\"\"\n",
        "# стандартизируем количественные признаки \n",
        "scaler = StandardScaler()\n",
        "numeric = ['CreditScore','Age', \n",
        "           'Tenure', 'Balance', 'NumOfProducts', \n",
        "           'HasCrCard','EstimatedSalary']\n",
        "scaler.fit(data[numeric])\n",
        "data[numeric] = scaler.transform(data[numeric]) \n",
        "\"\"\""
      ]
    },
    {
      "cell_type": "markdown",
      "metadata": {
        "id": "o1U1L3yfrR_S"
      },
      "source": [
        "## Борьба с дисбалансом"
      ]
    },
    {
      "cell_type": "code",
      "execution_count": null,
      "metadata": {
        "id": "OniFIg26rR_S",
        "outputId": "62642cf4-4dd1-48dc-bd73-9c49073ae539"
      },
      "outputs": [
        {
          "data": {
            "text/plain": [
              "0    0.7963\n",
              "1    0.2037\n",
              "Name: Exited, dtype: float64"
            ]
          },
          "execution_count": 8,
          "metadata": {},
          "output_type": "execute_result"
        }
      ],
      "source": [
        "data['Exited'].value_counts(normalize=True)"
      ]
    },
    {
      "cell_type": "markdown",
      "metadata": {
        "id": "LgEGX3GzrR_S"
      },
      "source": [
        "Видим дисбаланс, будем исправлять."
      ]
    },
    {
      "cell_type": "code",
      "execution_count": null,
      "metadata": {
        "id": "Jjyz5H2frR_T"
      },
      "outputs": [],
      "source": [
        "target = data['Exited']\n",
        "features = data.drop(['RowNumber', 'CustomerId', 'Surname','Exited'], axis=1)\n",
        "features['Tenure'] = features['Tenure'].fillna(0)\n",
        "features_train, features_valid, target_train, target_valid = train_test_split(\n",
        "    features, target, test_size=0.25, random_state=12345)"
      ]
    },
    {
      "cell_type": "code",
      "execution_count": null,
      "metadata": {
        "id": "wZC4ITuFrR_T"
      },
      "outputs": [],
      "source": [
        "features_valid, features_test, target_valid, target_test = train_test_split(features_valid, target_valid, test_size=0.5,  random_state = 12345)"
      ]
    },
    {
      "cell_type": "code",
      "execution_count": null,
      "metadata": {
        "id": "5QNPQb_ArR_T",
        "outputId": "89f2822c-1f8c-4bf5-8340-717adbd2c79b"
      },
      "outputs": [
        {
          "name": "stdout",
          "output_type": "stream",
          "text": [
            "35 17\n",
            "F1: 0.6023529411764705\n",
            "AUC-ROC 0.7261220967636306\n"
          ]
        }
      ],
      "source": [
        "# проверим модель без учета дисбаланса\n",
        "best_model = None\n",
        "best_depth = 0\n",
        "best_n_estimators = 0\n",
        "best_result = 0\n",
        "for n_est in range(20,80,1):\n",
        "    for depth in range(1, 18, 1):\n",
        "        model = RandomForestClassifier(n_estimators=n_est, max_depth=depth, random_state=12345)\n",
        "        model.fit(features_train, target_train)\n",
        "        prediction = f1_score(target_valid, model.predict(features_valid))\n",
        "        if prediction>best_result:\n",
        "            best_model = model\n",
        "            best_depth = depth\n",
        "            best_n_estimators = n_est\n",
        "            best_result = prediction\n",
        "                \n",
        "print(best_n_estimators, best_depth)\n",
        "print(\"F1:\", best_result)\n",
        "auc_roc = roc_auc_score(target_valid,best_model.predict(features_valid))\n",
        "print(\"AUC-ROC\", auc_roc)"
      ]
    },
    {
      "cell_type": "markdown",
      "metadata": {
        "id": "TbdiB83nrR_U"
      },
      "source": [
        "Обучим модель и сравним лучшие параметры и результат."
      ]
    },
    {
      "cell_type": "code",
      "execution_count": null,
      "metadata": {
        "id": "9KVtaIDGrR_U"
      },
      "outputs": [],
      "source": [
        "def upsample(features, target, repeat):\n",
        "    features_zeros = features[target == 0]\n",
        "    features_ones = features[target == 1]\n",
        "    \n",
        "    target_zeros = target[target == 0]\n",
        "    target_ones = target[target ==1]\n",
        "    features_upsampled = pd.concat([features_zeros] + [features_ones] * repeat)\n",
        "    target_upsampled = pd.concat([target_zeros] + [target_ones] * repeat)\n",
        "\n",
        "    features_upsampled = shuffle(features_upsampled,random_state=12345)\n",
        "    target_upsampled = shuffle(target_upsampled,random_state=12345)\n",
        "\n",
        "    return features_upsampled, target_upsampled"
      ]
    },
    {
      "cell_type": "code",
      "execution_count": null,
      "metadata": {
        "id": "dkBRfUJnrR_U"
      },
      "outputs": [],
      "source": [
        "features_upsampled, target_upsampled = upsample(features_train, target_train, 4)\n"
      ]
    },
    {
      "cell_type": "code",
      "execution_count": null,
      "metadata": {
        "id": "XVciHNjGrR_U",
        "outputId": "53bf39ad-c3cc-4c39-c621-a9d5b24dc03f"
      },
      "outputs": [
        {
          "data": {
            "text/plain": [
              "1    0.500416\n",
              "0    0.499584\n",
              "Name: Exited, dtype: float64"
            ]
          },
          "execution_count": 14,
          "metadata": {},
          "output_type": "execute_result"
        }
      ],
      "source": [
        "target_upsampled.value_counts(normalize=True)"
      ]
    },
    {
      "cell_type": "code",
      "execution_count": null,
      "metadata": {
        "id": "q2bUPHMMrR_U",
        "outputId": "661ffec9-18a2-4180-cac6-8b3a52c395d6"
      },
      "outputs": [
        {
          "name": "stdout",
          "output_type": "stream",
          "text": [
            "78 11\n",
            "F1: 0.6499102333931777\n",
            "AUC-ROC 0.7868622896128761\n"
          ]
        }
      ],
      "source": [
        "best_model = None\n",
        "best_depth = 0\n",
        "best_n_estimators = 0\n",
        "best_result = 0\n",
        "for n_est in range(20,80,1):\n",
        "    for depth in range(1, 18, 1):\n",
        "        model = RandomForestClassifier(n_estimators=n_est, max_depth=depth, random_state=12345)\n",
        "        model.fit(features_upsampled, target_upsampled)\n",
        "        prediction = f1_score(target_valid, model.predict(features_valid))\n",
        "        if prediction>best_result:\n",
        "            best_model = model\n",
        "            best_depth = depth\n",
        "            best_n_estimators = n_est\n",
        "            best_result = prediction\n",
        "                \n",
        "print(best_n_estimators, best_depth)\n",
        "print(\"F1:\", best_result)\n",
        "auc_roc = roc_auc_score(target_valid,best_model.predict(features_valid))\n",
        "print(\"AUC-ROC\", auc_roc)"
      ]
    },
    {
      "cell_type": "code",
      "execution_count": null,
      "metadata": {
        "id": "6KgBpYiCrR_V"
      },
      "outputs": [],
      "source": [
        "def downsample(features, target, fraction):\n",
        "    features_zeros = features[target == 0]\n",
        "    features_ones = features[target == 1]\n",
        "    target_zeros = target[target == 0]\n",
        "    target_ones = target[target == 1]\n",
        "    target_downsampled = pd.concat([target_zeros.sample(frac=fraction,random_state=12345)] + [target_ones])\n",
        "    features_downsampled = pd.concat(\n",
        "        [features_zeros.sample(frac=fraction, random_state=12345)] + [features_ones])\n",
        "    target_downsampled = shuffle(target_downsampled, random_state=12345)\n",
        "    features_downsampled = shuffle(features_downsampled, random_state=12345)\n",
        "    return features_downsampled, target_downsampled\n",
        "\n",
        "features_downsampled, target_downsampled = downsample(features_train, target_train, 0.25)"
      ]
    },
    {
      "cell_type": "code",
      "execution_count": null,
      "metadata": {
        "id": "VlEao8WJrR_V",
        "outputId": "4eb298fd-628a-4ae0-e6d6-e4d77c683249"
      },
      "outputs": [
        {
          "data": {
            "text/plain": [
              "1    0.500333\n",
              "0    0.499667\n",
              "Name: Exited, dtype: float64"
            ]
          },
          "execution_count": 17,
          "metadata": {},
          "output_type": "execute_result"
        }
      ],
      "source": [
        "target_downsampled.value_counts(normalize=True)"
      ]
    },
    {
      "cell_type": "code",
      "execution_count": null,
      "metadata": {
        "scrolled": true,
        "id": "9mF31C68rR_V",
        "outputId": "929e7be9-f1e4-4aaf-a16c-9f6d88fb2200"
      },
      "outputs": [
        {
          "name": "stdout",
          "output_type": "stream",
          "text": [
            "32 6\n",
            "F1: 0.6222222222222222\n",
            "AUC-ROC: 0.7969092499065802\n"
          ]
        }
      ],
      "source": [
        "dbest_model = None\n",
        "best_depth = 0\n",
        "best_n_estimators = 0\n",
        "best_result = 0\n",
        "for n_est in range(30,80,1):\n",
        "    for depth in range(1, 18, 1):\n",
        "        model = RandomForestClassifier(n_estimators=n_est, max_depth=depth, random_state=12345)\n",
        "        model.fit(features_downsampled, target_downsampled)\n",
        "        prediction = f1_score(target_valid, model.predict(features_valid))\n",
        "        if prediction>best_result:\n",
        "            dbest_model = model\n",
        "            best_depth = depth\n",
        "            best_n_estimators = n_est\n",
        "            best_result = prediction\n",
        "\n",
        "                \n",
        "print(best_n_estimators, best_depth)\n",
        "print(\"F1:\", best_result)\n",
        "auc_roc = roc_auc_score(target_valid,dbest_model.predict(features_valid))\n",
        "print(\"AUC-ROC:\", auc_roc)"
      ]
    },
    {
      "cell_type": "markdown",
      "metadata": {
        "id": "3qgsNwNGrR_W"
      },
      "source": [
        "<span style=\"color:blue\"> Результаты после downsampling хуже. Возьмем модель после upsampling и протестируем.\n"
      ]
    },
    {
      "cell_type": "markdown",
      "metadata": {
        "id": "d2iPu728rR_W"
      },
      "source": [
        "## Тестирование модели"
      ]
    },
    {
      "cell_type": "code",
      "execution_count": null,
      "metadata": {
        "id": "GybwUucerR_X",
        "outputId": "b33e1863-c6e1-4b06-ab3e-f417a9a0f01f"
      },
      "outputs": [
        {
          "name": "stdout",
          "output_type": "stream",
          "text": [
            "F1: 0.6114864864864865\n",
            "AUC-ROC: 0.7616571935522676\n"
          ]
        }
      ],
      "source": [
        "prediction = best_model.predict(features_test)\n",
        "print(\"F1:\", f1_score(target_test, prediction))\n",
        "print(\"AUC-ROC:\", roc_auc_score(target_test, prediction))"
      ]
    },
    {
      "cell_type": "markdown",
      "metadata": {
        "id": "7iAzn-m3rR_X"
      },
      "source": [
        "Протестировали модель без учета дисбалланса и получили следующие результаты метрик:\n",
        "* F1: 0.6076555023923444\n",
        "* AUC-ROC 0.7272604697570315\n",
        "\n",
        "После балансировки классов upsampling метрики выросли:\n",
        "* F1: 0.6495049504950495\n",
        "* AUC-ROC: 0.7722733944317959\n",
        "\n",
        "После балансировки классов методом downsampling метрики упали\n",
        "* F1: 0.6222222222222222\n",
        "* AUC-ROC: 0.7969092499065802\n",
        "\n",
        "При тестировании лучшей модели получили следующие результаты:\n",
        "* F1: 0.5931558935361216\n",
        "* AUC-ROC: 0.7366624563936004\n",
        "\n",
        "<span style=\"color:blue\"> Без стандартизации количественных признаков довели F1 до 0.61."
      ]
    }
  ],
  "metadata": {
    "ExecuteTimeLog": [
      {
        "duration": 395,
        "start_time": "2022-10-17T13:52:59.381Z"
      },
      {
        "duration": 154,
        "start_time": "2022-10-17T13:53:24.114Z"
      },
      {
        "duration": 11,
        "start_time": "2022-10-17T13:53:43.533Z"
      },
      {
        "duration": 676,
        "start_time": "2022-10-17T13:55:03.854Z"
      },
      {
        "duration": 18,
        "start_time": "2022-10-17T13:56:12.786Z"
      },
      {
        "duration": 73,
        "start_time": "2022-10-17T14:02:40.900Z"
      },
      {
        "duration": 89,
        "start_time": "2022-10-17T14:02:45.200Z"
      },
      {
        "duration": 3,
        "start_time": "2022-10-17T14:02:59.412Z"
      },
      {
        "duration": 24,
        "start_time": "2022-10-17T14:03:07.194Z"
      },
      {
        "duration": 12,
        "start_time": "2022-10-17T14:06:16.454Z"
      },
      {
        "duration": 3,
        "start_time": "2022-10-17T14:06:21.072Z"
      },
      {
        "duration": 20,
        "start_time": "2022-10-17T14:06:24.327Z"
      },
      {
        "duration": 14,
        "start_time": "2022-10-17T14:12:20.633Z"
      },
      {
        "duration": 1078,
        "start_time": "2022-10-18T10:13:34.229Z"
      },
      {
        "duration": 176,
        "start_time": "2022-10-18T10:13:36.180Z"
      },
      {
        "duration": 13,
        "start_time": "2022-10-18T10:13:37.996Z"
      },
      {
        "duration": 18,
        "start_time": "2022-10-18T10:13:40.855Z"
      },
      {
        "duration": 95,
        "start_time": "2022-10-18T10:17:10.452Z"
      },
      {
        "duration": 9,
        "start_time": "2022-10-18T10:17:22.573Z"
      },
      {
        "duration": 14,
        "start_time": "2022-10-18T10:19:22.524Z"
      },
      {
        "duration": 9,
        "start_time": "2022-10-18T10:19:30.160Z"
      },
      {
        "duration": 8,
        "start_time": "2022-10-18T10:19:44.007Z"
      },
      {
        "duration": 3,
        "start_time": "2022-10-18T10:19:46.819Z"
      },
      {
        "duration": 18,
        "start_time": "2022-10-18T10:37:25.047Z"
      },
      {
        "duration": 14,
        "start_time": "2022-10-18T10:37:30.395Z"
      },
      {
        "duration": 7,
        "start_time": "2022-10-18T10:48:22.708Z"
      },
      {
        "duration": 3,
        "start_time": "2022-10-18T10:54:03.080Z"
      },
      {
        "duration": 13,
        "start_time": "2022-10-18T10:56:27.047Z"
      },
      {
        "duration": 21,
        "start_time": "2022-10-18T10:57:12.338Z"
      },
      {
        "duration": 15,
        "start_time": "2022-10-18T11:05:29.431Z"
      },
      {
        "duration": 7,
        "start_time": "2022-10-18T11:06:55.003Z"
      },
      {
        "duration": 3,
        "start_time": "2022-10-18T11:12:18.977Z"
      },
      {
        "duration": 7,
        "start_time": "2022-10-18T11:12:22.748Z"
      },
      {
        "duration": 4,
        "start_time": "2022-10-18T11:12:40.861Z"
      },
      {
        "duration": 13,
        "start_time": "2022-10-18T11:13:09.337Z"
      },
      {
        "duration": 6,
        "start_time": "2022-10-18T11:14:10.939Z"
      },
      {
        "duration": 5,
        "start_time": "2022-10-18T11:25:35.585Z"
      },
      {
        "duration": 10,
        "start_time": "2022-10-18T11:27:46.397Z"
      },
      {
        "duration": 1134,
        "start_time": "2022-10-18T11:29:24.992Z"
      },
      {
        "duration": 46,
        "start_time": "2022-10-18T11:29:26.129Z"
      },
      {
        "duration": 16,
        "start_time": "2022-10-18T11:29:26.177Z"
      },
      {
        "duration": 31,
        "start_time": "2022-10-18T11:29:26.196Z"
      },
      {
        "duration": 33,
        "start_time": "2022-10-18T11:29:26.228Z"
      },
      {
        "duration": 55,
        "start_time": "2022-10-18T11:29:26.263Z"
      },
      {
        "duration": 33,
        "start_time": "2022-10-18T11:29:26.320Z"
      },
      {
        "duration": 49,
        "start_time": "2022-10-18T11:29:26.354Z"
      },
      {
        "duration": 20,
        "start_time": "2022-10-18T11:29:26.405Z"
      },
      {
        "duration": 88,
        "start_time": "2022-10-18T11:29:26.428Z"
      },
      {
        "duration": 0,
        "start_time": "2022-10-18T11:29:26.517Z"
      },
      {
        "duration": 0,
        "start_time": "2022-10-18T11:29:26.518Z"
      },
      {
        "duration": 0,
        "start_time": "2022-10-18T11:29:26.519Z"
      },
      {
        "duration": 0,
        "start_time": "2022-10-18T11:29:26.521Z"
      },
      {
        "duration": 0,
        "start_time": "2022-10-18T11:29:26.522Z"
      },
      {
        "duration": 0,
        "start_time": "2022-10-18T11:29:26.523Z"
      },
      {
        "duration": 7,
        "start_time": "2022-10-18T11:29:49.161Z"
      },
      {
        "duration": 4,
        "start_time": "2022-10-18T11:29:52.589Z"
      },
      {
        "duration": 104,
        "start_time": "2022-10-18T11:30:50.362Z"
      },
      {
        "duration": 18,
        "start_time": "2022-10-18T11:31:59.124Z"
      },
      {
        "duration": 22,
        "start_time": "2022-10-18T11:34:01.222Z"
      },
      {
        "duration": 13,
        "start_time": "2022-10-18T11:34:39.471Z"
      },
      {
        "duration": 12,
        "start_time": "2022-10-18T11:34:58.071Z"
      },
      {
        "duration": 17,
        "start_time": "2022-10-18T11:35:20.941Z"
      },
      {
        "duration": 7,
        "start_time": "2022-10-18T11:36:54.259Z"
      },
      {
        "duration": 15,
        "start_time": "2022-10-18T11:37:09.887Z"
      },
      {
        "duration": 7,
        "start_time": "2022-10-18T11:37:17.116Z"
      },
      {
        "duration": 1194,
        "start_time": "2022-10-18T11:38:58.557Z"
      },
      {
        "duration": 3,
        "start_time": "2022-10-18T11:39:09.939Z"
      },
      {
        "duration": 1050,
        "start_time": "2022-10-18T11:55:44.238Z"
      },
      {
        "duration": 43,
        "start_time": "2022-10-18T11:55:45.290Z"
      },
      {
        "duration": 12,
        "start_time": "2022-10-18T11:55:45.335Z"
      },
      {
        "duration": 25,
        "start_time": "2022-10-18T11:55:45.350Z"
      },
      {
        "duration": 5,
        "start_time": "2022-10-18T11:55:45.377Z"
      },
      {
        "duration": 43,
        "start_time": "2022-10-18T11:55:45.384Z"
      },
      {
        "duration": 14,
        "start_time": "2022-10-18T11:55:45.429Z"
      },
      {
        "duration": 23,
        "start_time": "2022-10-18T11:55:45.445Z"
      },
      {
        "duration": 7,
        "start_time": "2022-10-18T11:55:45.470Z"
      },
      {
        "duration": 141,
        "start_time": "2022-10-18T11:55:45.482Z"
      },
      {
        "duration": 0,
        "start_time": "2022-10-18T11:55:45.625Z"
      },
      {
        "duration": 0,
        "start_time": "2022-10-18T11:55:45.626Z"
      },
      {
        "duration": 0,
        "start_time": "2022-10-18T11:55:45.627Z"
      },
      {
        "duration": 0,
        "start_time": "2022-10-18T11:55:45.628Z"
      },
      {
        "duration": 0,
        "start_time": "2022-10-18T11:55:45.629Z"
      },
      {
        "duration": 0,
        "start_time": "2022-10-18T11:55:45.630Z"
      },
      {
        "duration": 0,
        "start_time": "2022-10-18T11:55:45.631Z"
      },
      {
        "duration": 10,
        "start_time": "2022-10-18T11:56:12.809Z"
      },
      {
        "duration": 5,
        "start_time": "2022-10-18T11:56:14.734Z"
      },
      {
        "duration": 10896,
        "start_time": "2022-10-18T11:56:16.018Z"
      },
      {
        "duration": 87,
        "start_time": "2022-10-18T12:15:10.687Z"
      },
      {
        "duration": 101703,
        "start_time": "2022-10-18T12:15:15.354Z"
      },
      {
        "duration": 10,
        "start_time": "2022-10-18T12:17:26.509Z"
      },
      {
        "duration": 10,
        "start_time": "2022-10-18T12:17:29.150Z"
      },
      {
        "duration": 180478,
        "start_time": "2022-10-18T12:17:36.220Z"
      },
      {
        "duration": 7901466,
        "start_time": "2022-10-18T12:21:21.187Z"
      },
      {
        "duration": 6,
        "start_time": "2022-10-18T14:34:57.041Z"
      },
      {
        "duration": 4,
        "start_time": "2022-10-18T14:34:58.715Z"
      },
      {
        "duration": 10,
        "start_time": "2022-10-18T14:35:02.824Z"
      },
      {
        "duration": 6,
        "start_time": "2022-10-18T14:35:04.801Z"
      },
      {
        "duration": 1072801,
        "start_time": "2022-10-18T14:35:39.587Z"
      },
      {
        "duration": 10,
        "start_time": "2022-10-18T15:13:15.490Z"
      },
      {
        "duration": 10,
        "start_time": "2022-10-18T15:13:38.815Z"
      },
      {
        "duration": 20,
        "start_time": "2022-10-18T15:13:57.395Z"
      },
      {
        "duration": 5,
        "start_time": "2022-10-18T15:14:05.233Z"
      },
      {
        "duration": 10,
        "start_time": "2022-10-18T15:14:12.176Z"
      },
      {
        "duration": 6,
        "start_time": "2022-10-18T15:14:15.798Z"
      },
      {
        "duration": 11,
        "start_time": "2022-10-18T15:14:20.422Z"
      },
      {
        "duration": 6,
        "start_time": "2022-10-18T15:14:22.181Z"
      },
      {
        "duration": 9,
        "start_time": "2022-10-18T15:14:27.408Z"
      },
      {
        "duration": 6,
        "start_time": "2022-10-18T15:14:29.127Z"
      },
      {
        "duration": 10,
        "start_time": "2022-10-18T15:14:38.736Z"
      },
      {
        "duration": 6,
        "start_time": "2022-10-18T15:14:40.583Z"
      },
      {
        "duration": 10,
        "start_time": "2022-10-18T15:14:44.218Z"
      },
      {
        "duration": 6,
        "start_time": "2022-10-18T15:14:46.229Z"
      },
      {
        "duration": 9,
        "start_time": "2022-10-18T15:14:50.242Z"
      },
      {
        "duration": 5,
        "start_time": "2022-10-18T15:14:51.836Z"
      },
      {
        "duration": 10,
        "start_time": "2022-10-18T15:14:58.217Z"
      },
      {
        "duration": 6,
        "start_time": "2022-10-18T15:14:59.674Z"
      },
      {
        "duration": 10,
        "start_time": "2022-10-18T15:15:04.771Z"
      },
      {
        "duration": 6,
        "start_time": "2022-10-18T15:15:06.310Z"
      },
      {
        "duration": 377819,
        "start_time": "2022-10-18T15:16:00.927Z"
      },
      {
        "duration": 3,
        "start_time": "2022-10-18T15:34:50.359Z"
      },
      {
        "duration": 1077,
        "start_time": "2022-10-18T15:35:47.940Z"
      },
      {
        "duration": 3,
        "start_time": "2022-10-18T15:38:40.267Z"
      },
      {
        "duration": 8,
        "start_time": "2022-10-18T15:38:44.535Z"
      },
      {
        "duration": 10,
        "start_time": "2022-10-18T15:40:03.369Z"
      },
      {
        "duration": 28,
        "start_time": "2022-10-18T15:40:13.150Z"
      },
      {
        "duration": 32,
        "start_time": "2022-10-18T15:40:20.494Z"
      },
      {
        "duration": 28,
        "start_time": "2022-10-18T15:40:24.328Z"
      },
      {
        "duration": 35,
        "start_time": "2022-10-18T15:41:00.372Z"
      },
      {
        "duration": 17,
        "start_time": "2022-10-18T15:41:46.795Z"
      },
      {
        "duration": 17,
        "start_time": "2022-10-18T15:41:55.148Z"
      },
      {
        "duration": 16,
        "start_time": "2022-10-18T15:41:58.748Z"
      },
      {
        "duration": 16,
        "start_time": "2022-10-18T15:42:02.248Z"
      },
      {
        "duration": 14,
        "start_time": "2022-10-18T15:42:05.580Z"
      },
      {
        "duration": 15,
        "start_time": "2022-10-18T15:42:08.849Z"
      },
      {
        "duration": 13,
        "start_time": "2022-10-18T15:42:13.122Z"
      },
      {
        "duration": 25,
        "start_time": "2022-10-18T15:42:25.516Z"
      },
      {
        "duration": 28,
        "start_time": "2022-10-18T15:42:28.536Z"
      },
      {
        "duration": 23,
        "start_time": "2022-10-18T15:42:32.860Z"
      },
      {
        "duration": 23,
        "start_time": "2022-10-18T15:42:34.959Z"
      },
      {
        "duration": 28,
        "start_time": "2022-10-18T15:42:37.901Z"
      },
      {
        "duration": 24,
        "start_time": "2022-10-18T15:42:40.688Z"
      },
      {
        "duration": 19,
        "start_time": "2022-10-18T15:42:53.951Z"
      },
      {
        "duration": 22,
        "start_time": "2022-10-18T15:42:56.605Z"
      },
      {
        "duration": 20,
        "start_time": "2022-10-18T15:42:58.580Z"
      },
      {
        "duration": 391,
        "start_time": "2022-10-18T15:46:23.396Z"
      },
      {
        "duration": 3,
        "start_time": "2022-10-18T15:48:40.940Z"
      },
      {
        "duration": 8,
        "start_time": "2022-10-18T15:49:02.022Z"
      },
      {
        "duration": 3,
        "start_time": "2022-10-18T15:49:28.956Z"
      },
      {
        "duration": 208,
        "start_time": "2022-10-18T15:49:32.950Z"
      },
      {
        "duration": 496,
        "start_time": "2022-10-18T15:49:45.468Z"
      },
      {
        "duration": 518653,
        "start_time": "2022-10-18T15:49:59.248Z"
      },
      {
        "duration": 456,
        "start_time": "2022-10-18T15:59:42.095Z"
      },
      {
        "duration": 197252,
        "start_time": "2022-10-18T16:00:14.769Z"
      },
      {
        "duration": 394363,
        "start_time": "2022-10-18T16:03:47.431Z"
      },
      {
        "duration": 54,
        "start_time": "2022-10-18T16:10:41.399Z"
      },
      {
        "duration": 98,
        "start_time": "2022-10-18T16:11:17.927Z"
      },
      {
        "duration": 277584,
        "start_time": "2022-10-18T16:12:27.518Z"
      },
      {
        "duration": 444,
        "start_time": "2022-10-18T16:17:51.650Z"
      },
      {
        "duration": 382052,
        "start_time": "2022-10-18T16:18:32.406Z"
      },
      {
        "duration": 664,
        "start_time": "2022-10-18T16:27:15.844Z"
      },
      {
        "duration": 558,
        "start_time": "2022-10-18T16:27:39.554Z"
      },
      {
        "duration": 597,
        "start_time": "2022-10-18T16:27:42.661Z"
      },
      {
        "duration": 620,
        "start_time": "2022-10-18T16:27:45.576Z"
      },
      {
        "duration": 601,
        "start_time": "2022-10-18T16:27:49.526Z"
      },
      {
        "duration": 583,
        "start_time": "2022-10-18T16:27:52.631Z"
      },
      {
        "duration": 621,
        "start_time": "2022-10-18T16:27:56.138Z"
      },
      {
        "duration": 591,
        "start_time": "2022-10-18T16:27:59.990Z"
      },
      {
        "duration": 349858,
        "start_time": "2022-10-18T16:29:09.242Z"
      },
      {
        "duration": 222,
        "start_time": "2022-10-18T16:35:11.753Z"
      },
      {
        "duration": 225,
        "start_time": "2022-10-18T16:36:08.917Z"
      },
      {
        "duration": 353604,
        "start_time": "2022-10-18T16:37:20.821Z"
      },
      {
        "duration": 238,
        "start_time": "2022-10-18T16:43:48.405Z"
      },
      {
        "duration": 1059,
        "start_time": "2022-10-18T16:50:35.272Z"
      },
      {
        "duration": 39,
        "start_time": "2022-10-18T16:50:36.332Z"
      },
      {
        "duration": 13,
        "start_time": "2022-10-18T16:50:36.372Z"
      },
      {
        "duration": 15,
        "start_time": "2022-10-18T16:50:36.387Z"
      },
      {
        "duration": 3,
        "start_time": "2022-10-18T16:50:36.404Z"
      },
      {
        "duration": 21,
        "start_time": "2022-10-18T16:50:36.409Z"
      },
      {
        "duration": 11,
        "start_time": "2022-10-18T16:50:36.432Z"
      },
      {
        "duration": 21,
        "start_time": "2022-10-18T16:50:36.444Z"
      },
      {
        "duration": 5,
        "start_time": "2022-10-18T16:50:36.466Z"
      },
      {
        "duration": 13,
        "start_time": "2022-10-18T16:50:36.473Z"
      },
      {
        "duration": 4,
        "start_time": "2022-10-18T16:50:36.487Z"
      },
      {
        "duration": 107,
        "start_time": "2022-10-18T16:50:36.492Z"
      },
      {
        "duration": 0,
        "start_time": "2022-10-18T16:50:36.601Z"
      },
      {
        "duration": 0,
        "start_time": "2022-10-18T16:50:36.602Z"
      },
      {
        "duration": 0,
        "start_time": "2022-10-18T16:50:36.603Z"
      },
      {
        "duration": 0,
        "start_time": "2022-10-18T16:50:36.604Z"
      },
      {
        "duration": 0,
        "start_time": "2022-10-18T16:50:36.605Z"
      },
      {
        "duration": 0,
        "start_time": "2022-10-18T16:50:36.606Z"
      },
      {
        "duration": 0,
        "start_time": "2022-10-18T16:50:36.621Z"
      },
      {
        "duration": 0,
        "start_time": "2022-10-18T16:50:36.622Z"
      },
      {
        "duration": 0,
        "start_time": "2022-10-18T16:50:36.623Z"
      },
      {
        "duration": 0,
        "start_time": "2022-10-18T16:50:36.624Z"
      },
      {
        "duration": 16,
        "start_time": "2022-10-18T16:51:11.885Z"
      },
      {
        "duration": 1034,
        "start_time": "2022-10-18T16:51:52.582Z"
      },
      {
        "duration": 39,
        "start_time": "2022-10-18T16:51:53.617Z"
      },
      {
        "duration": 11,
        "start_time": "2022-10-18T16:51:53.658Z"
      },
      {
        "duration": 17,
        "start_time": "2022-10-18T16:51:53.671Z"
      },
      {
        "duration": 3,
        "start_time": "2022-10-18T16:51:53.689Z"
      },
      {
        "duration": 20,
        "start_time": "2022-10-18T16:51:53.693Z"
      },
      {
        "duration": 12,
        "start_time": "2022-10-18T16:51:53.715Z"
      },
      {
        "duration": 20,
        "start_time": "2022-10-18T16:51:53.728Z"
      },
      {
        "duration": 6,
        "start_time": "2022-10-18T16:51:53.749Z"
      },
      {
        "duration": 6,
        "start_time": "2022-10-18T16:51:53.757Z"
      },
      {
        "duration": 4,
        "start_time": "2022-10-18T16:51:53.764Z"
      },
      {
        "duration": 278510,
        "start_time": "2022-10-18T16:51:53.770Z"
      },
      {
        "duration": 451,
        "start_time": "2022-10-18T16:56:32.281Z"
      },
      {
        "duration": 3,
        "start_time": "2022-10-18T16:56:32.734Z"
      },
      {
        "duration": 31,
        "start_time": "2022-10-18T16:56:32.738Z"
      },
      {
        "duration": 20,
        "start_time": "2022-10-18T16:56:32.771Z"
      },
      {
        "duration": 381480,
        "start_time": "2022-10-18T16:56:32.792Z"
      },
      {
        "duration": 607,
        "start_time": "2022-10-18T17:02:54.274Z"
      },
      {
        "duration": 9,
        "start_time": "2022-10-18T17:02:54.883Z"
      },
      {
        "duration": 5,
        "start_time": "2022-10-18T17:02:54.894Z"
      },
      {
        "duration": 145561,
        "start_time": "2022-10-18T17:02:54.901Z"
      },
      {
        "duration": 0,
        "start_time": "2022-10-18T17:05:20.464Z"
      },
      {
        "duration": 395,
        "start_time": "2022-10-18T17:05:26.715Z"
      },
      {
        "duration": 719,
        "start_time": "2022-10-18T17:05:35.917Z"
      },
      {
        "duration": 362513,
        "start_time": "2022-10-18T17:06:07.495Z"
      },
      {
        "duration": 1041,
        "start_time": "2022-10-21T08:11:11.917Z"
      },
      {
        "duration": 186,
        "start_time": "2022-10-21T08:11:12.960Z"
      },
      {
        "duration": 12,
        "start_time": "2022-10-21T08:11:13.308Z"
      },
      {
        "duration": 19,
        "start_time": "2022-10-21T08:11:15.253Z"
      },
      {
        "duration": 5,
        "start_time": "2022-10-21T08:11:15.994Z"
      },
      {
        "duration": 17,
        "start_time": "2022-10-21T08:11:18.388Z"
      },
      {
        "duration": 17,
        "start_time": "2022-10-21T08:11:19.190Z"
      },
      {
        "duration": 20,
        "start_time": "2022-10-21T08:11:21.124Z"
      },
      {
        "duration": 6,
        "start_time": "2022-10-21T08:11:23.371Z"
      },
      {
        "duration": 7,
        "start_time": "2022-10-21T08:11:25.414Z"
      },
      {
        "duration": 5,
        "start_time": "2022-10-21T08:11:26.312Z"
      },
      {
        "duration": 3426,
        "start_time": "2022-10-21T08:11:27.331Z"
      },
      {
        "duration": 3,
        "start_time": "2022-10-21T08:13:06.714Z"
      },
      {
        "duration": 4,
        "start_time": "2022-10-21T08:13:33.215Z"
      },
      {
        "duration": 275765,
        "start_time": "2022-10-21T08:16:50.441Z"
      },
      {
        "duration": 4,
        "start_time": "2022-10-21T08:22:05.863Z"
      },
      {
        "duration": 11,
        "start_time": "2022-10-21T08:22:07.822Z"
      },
      {
        "duration": 6,
        "start_time": "2022-10-21T08:22:09.512Z"
      },
      {
        "duration": 377284,
        "start_time": "2022-10-21T08:23:09.931Z"
      },
      {
        "duration": 12,
        "start_time": "2022-10-21T08:30:47.842Z"
      },
      {
        "duration": 6,
        "start_time": "2022-10-21T08:30:49.981Z"
      },
      {
        "duration": 346011,
        "start_time": "2022-10-21T08:31:06.947Z"
      },
      {
        "duration": 38,
        "start_time": "2022-10-21T08:42:38.471Z"
      },
      {
        "duration": 350964,
        "start_time": "2022-10-21T08:43:18.823Z"
      },
      {
        "duration": 32,
        "start_time": "2022-10-21T08:49:22.184Z"
      },
      {
        "duration": 1025,
        "start_time": "2022-10-21T08:58:01.418Z"
      },
      {
        "duration": 78,
        "start_time": "2022-10-21T08:58:02.445Z"
      },
      {
        "duration": 10,
        "start_time": "2022-10-21T08:58:02.525Z"
      },
      {
        "duration": 17,
        "start_time": "2022-10-21T08:58:02.537Z"
      },
      {
        "duration": 4,
        "start_time": "2022-10-21T08:58:02.555Z"
      },
      {
        "duration": 25,
        "start_time": "2022-10-21T08:58:02.560Z"
      },
      {
        "duration": 20,
        "start_time": "2022-10-21T08:58:02.586Z"
      },
      {
        "duration": 19,
        "start_time": "2022-10-21T08:58:02.607Z"
      },
      {
        "duration": 6,
        "start_time": "2022-10-21T08:58:02.627Z"
      },
      {
        "duration": 8,
        "start_time": "2022-10-21T08:58:02.634Z"
      },
      {
        "duration": 4,
        "start_time": "2022-10-21T08:58:02.644Z"
      },
      {
        "duration": 280107,
        "start_time": "2022-10-21T08:58:02.649Z"
      },
      {
        "duration": 4,
        "start_time": "2022-10-21T09:02:42.759Z"
      },
      {
        "duration": 12,
        "start_time": "2022-10-21T09:02:42.766Z"
      },
      {
        "duration": 7,
        "start_time": "2022-10-21T09:02:42.780Z"
      },
      {
        "duration": 393632,
        "start_time": "2022-10-21T09:02:42.788Z"
      },
      {
        "duration": 10,
        "start_time": "2022-10-21T09:09:16.422Z"
      },
      {
        "duration": 5,
        "start_time": "2022-10-21T09:09:16.434Z"
      },
      {
        "duration": 353079,
        "start_time": "2022-10-21T09:09:16.440Z"
      },
      {
        "duration": 29,
        "start_time": "2022-10-21T09:15:09.520Z"
      },
      {
        "duration": 13,
        "start_time": "2022-10-23T07:20:58.289Z"
      },
      {
        "duration": 1046,
        "start_time": "2022-10-23T07:22:55.978Z"
      },
      {
        "duration": 168,
        "start_time": "2022-10-23T07:22:57.026Z"
      },
      {
        "duration": 12,
        "start_time": "2022-10-23T07:22:58.598Z"
      },
      {
        "duration": 20,
        "start_time": "2022-10-23T07:23:01.650Z"
      },
      {
        "duration": 4,
        "start_time": "2022-10-23T07:23:05.343Z"
      },
      {
        "duration": 20,
        "start_time": "2022-10-23T07:23:08.815Z"
      },
      {
        "duration": 17,
        "start_time": "2022-10-23T07:23:11.601Z"
      },
      {
        "duration": 8,
        "start_time": "2022-10-23T07:23:17.387Z"
      },
      {
        "duration": 9,
        "start_time": "2022-10-23T07:23:19.590Z"
      },
      {
        "duration": 6,
        "start_time": "2022-10-23T07:23:25.011Z"
      },
      {
        "duration": 308427,
        "start_time": "2022-10-23T07:23:29.520Z"
      },
      {
        "duration": 4,
        "start_time": "2022-10-23T07:30:27.869Z"
      },
      {
        "duration": 14,
        "start_time": "2022-10-23T07:30:29.859Z"
      },
      {
        "duration": 7,
        "start_time": "2022-10-23T07:30:31.628Z"
      },
      {
        "duration": 427261,
        "start_time": "2022-10-23T07:30:42.365Z"
      },
      {
        "duration": 13,
        "start_time": "2022-10-23T07:40:24.869Z"
      },
      {
        "duration": 5,
        "start_time": "2022-10-23T07:40:26.399Z"
      },
      {
        "duration": 153646,
        "start_time": "2022-10-23T07:40:45.483Z"
      },
      {
        "duration": 32,
        "start_time": "2022-10-23T07:56:14.622Z"
      }
    ],
    "kernelspec": {
      "display_name": "Python 3 (ipykernel)",
      "language": "python",
      "name": "python3"
    },
    "language_info": {
      "codemirror_mode": {
        "name": "ipython",
        "version": 3
      },
      "file_extension": ".py",
      "mimetype": "text/x-python",
      "name": "python",
      "nbconvert_exporter": "python",
      "pygments_lexer": "ipython3",
      "version": "3.9.5"
    },
    "toc": {
      "base_numbering": 1,
      "nav_menu": {},
      "number_sections": true,
      "sideBar": true,
      "skip_h1_title": true,
      "title_cell": "Содержание",
      "title_sidebar": "Contents",
      "toc_cell": true,
      "toc_position": {
        "height": "calc(100% - 180px)",
        "left": "10px",
        "top": "150px",
        "width": "165px"
      },
      "toc_section_display": true,
      "toc_window_display": false
    },
    "colab": {
      "provenance": []
    }
  },
  "nbformat": 4,
  "nbformat_minor": 0
}